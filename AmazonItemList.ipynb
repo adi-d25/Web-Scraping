{
 "cells": [
  {
   "cell_type": "code",
   "execution_count": 2,
   "id": "initial_id",
   "metadata": {
    "collapsed": true,
    "ExecuteTime": {
     "end_time": "2024-02-06T09:16:06.646340Z",
     "start_time": "2024-02-06T09:16:06.194018Z"
    }
   },
   "outputs": [],
   "source": [
    "#import libraries\n",
    "\n",
    "from bs4 import BeautifulSoup\n",
    "import webbrowser\n",
    "import requests\n",
    "import time\n",
    "import datetime\n",
    "\n",
    "import smtplib\n"
   ]
  },
  {
   "cell_type": "code",
   "outputs": [
    {
     "name": "stdout",
     "output_type": "stream",
     "text": [
      "\n",
      "            Apple iPhone 15 Pro (512 GB) - White Titanium\n",
      "           \n",
      "\n",
      "\n",
      "\n",
      "\n",
      "\n",
      "                          AED5,299.35\n",
      "                         \n",
      "\n",
      "\n",
      "                           AED\n",
      "                          \n",
      "\n",
      "                           5,299\n",
      "                           \n",
      "                            .\n",
      "                           \n",
      "\n",
      "\n",
      "                           35\n",
      "                          \n"
     ]
    }
   ],
   "source": [
    "URL = 'https://www.amazon.ae/Apple-iPhone-15-Pro-512/dp/B0CHX5QVXH/ref=sr_1_1_sspa?crid=3VPZMCE5LEQXW&keywords=iphone+15+pro&qid=1706970566&sprefix=iphone%2Caps%2C287&sr=8-1-spons&sp_csd=d2lkZ2V0TmFtZT1zcF9hdGY&psc=1'\n",
    "\n",
    "headers = {\"User-Agent\": \"Mozilla/5.0 (Windows NT 10.0; Win64; x64) AppleWebKit/537.36 (KHTML, like Gecko) Chrome/78.0.3904.108 Safari/537.36\", \"Accept-Encoding\":\"gzip, deflate\", \"Accept\":\"text/html,application/xhtml+xml,application/xml;q=0.9,*/*;q=0.8\", \"DNT\":\"1\",\"Connection\":\"close\", \"Upgrade-Insecure-Requests\":\"1\"}\n",
    "\n",
    "page = requests.get(URL, headers=headers)\n",
    "\n",
    "soup1 = BeautifulSoup(page.content, \"html.parser\")\n",
    "soup2 = BeautifulSoup(soup1.prettify(), \"html.parser\")\n",
    "\n",
    "title = soup2.find(id='productTitle').get_text()\n",
    "price = soup2.find(id='corePrice_feature_div').get_text()\n",
    "\n",
    "print(title)\n",
    "print(price)\n",
    "\n"
   ],
   "metadata": {
    "collapsed": false,
    "ExecuteTime": {
     "end_time": "2024-02-06T09:16:35.818709Z",
     "start_time": "2024-02-06T09:16:32.012442Z"
    }
   },
   "id": "edd725186d3ddd52",
   "execution_count": 3
  },
  {
   "cell_type": "code",
   "outputs": [
    {
     "name": "stdout",
     "output_type": "stream",
     "text": [
      "Apple iPhone 15 Pro (512 GB) - White Titanium\n",
      "5,299.35\n"
     ]
    }
   ],
   "source": [
    "price = price.strip()[3:12]\n",
    "title = title.strip()\n",
    "\n",
    "print(title)\n",
    "print(price)\n"
   ],
   "metadata": {
    "collapsed": false,
    "ExecuteTime": {
     "end_time": "2024-02-06T09:16:52.348701Z",
     "start_time": "2024-02-06T09:16:52.245856Z"
    }
   },
   "id": "1c4f4ba971048c0c",
   "execution_count": 4
  },
  {
   "cell_type": "code",
   "outputs": [
    {
     "name": "stdout",
     "output_type": "stream",
     "text": [
      "2024-02-06\n"
     ]
    }
   ],
   "source": [
    "today = datetime.date.today()\n",
    "\n",
    "print(today)\n"
   ],
   "metadata": {
    "collapsed": false,
    "ExecuteTime": {
     "end_time": "2024-02-06T09:17:08.086744Z",
     "start_time": "2024-02-06T09:17:08.066736Z"
    }
   },
   "id": "88e77e0786b28dcf",
   "execution_count": 5
  },
  {
   "cell_type": "code",
   "outputs": [],
   "source": [
    "import csv\n",
    "\n",
    "header = [\"Title\", \"Price\", \"Date\"]\n",
    "data = [title, price, today]\n",
    "\n",
    "with open(\"AmazonWebScraperDataset.csv\", 'w', newline='', encoding='UTF8') as f:\n",
    "    writer = csv.writer(f)\n",
    "    writer.writerow(header)\n",
    "    writer.writerow(data)\n",
    "    "
   ],
   "metadata": {
    "collapsed": false,
    "ExecuteTime": {
     "end_time": "2024-02-06T09:17:19.721905Z",
     "start_time": "2024-02-06T09:17:19.662257Z"
    }
   },
   "id": "4e7dcc611165ab13",
   "execution_count": 6
  },
  {
   "cell_type": "code",
   "outputs": [
    {
     "name": "stdout",
     "output_type": "stream",
     "text": [
      "                                           Title       Price        Date\n",
      "0  Apple iPhone 15 Pro (512 GB) - White Titanium  5,299.35\\n  2024-02-06\n",
      "1  Apple iPhone 15 Pro (512 GB) - White Titanium  5,299.35\\n  2024-02-06\n",
      "2  Apple iPhone 15 Pro (512 GB) - White Titanium  5,299.35\\n  2024-02-06\n",
      "3  Apple iPhone 15 Pro (512 GB) - White Titanium  5,299.35\\n  2024-02-06\n",
      "4  Apple iPhone 15 Pro (512 GB) - White Titanium  5,299.35\\n  2024-02-06\n",
      "5  Apple iPhone 15 Pro (512 GB) - White Titanium  5,299.35\\n  2024-02-06\n",
      "6  Apple iPhone 15 Pro (512 GB) - White Titanium  5,299.35\\n  2024-02-06\n",
      "7  Apple iPhone 15 Pro (512 GB) - White Titanium  5,299.35\\n  2024-02-06\n",
      "8  Apple iPhone 15 Pro (512 GB) - White Titanium  5,299.35\\n  2024-02-06\n",
      "9  Apple iPhone 15 Pro (512 GB) - White Titanium  5,299.35\\n  2024-02-06\n"
     ]
    }
   ],
   "source": [
    "import pandas as pd\n",
    "\n",
    "df = pd.read_csv('/Users/adithya/PycharmProjects/Web-Scraping/AmazonWebScraperDataset.csv')\n",
    "\n",
    "print(df)"
   ],
   "metadata": {
    "collapsed": false,
    "ExecuteTime": {
     "end_time": "2024-02-06T09:26:01.334355Z",
     "start_time": "2024-02-06T09:26:01.136301Z"
    }
   },
   "id": "bd4d31bb4409459d",
   "execution_count": 12
  },
  {
   "cell_type": "code",
   "outputs": [],
   "source": [
    "#We're appending data to the csv\n",
    "\n",
    "with open(\"AmazonWebScraperDataset.csv\", 'a+', newline='', encoding='UTF8') as f:\n",
    "    writer = csv.writer(f)\n",
    "    writer.writerow(data)"
   ],
   "metadata": {
    "collapsed": false,
    "ExecuteTime": {
     "end_time": "2024-02-06T09:26:07.020725Z",
     "start_time": "2024-02-06T09:26:06.990019Z"
    }
   },
   "id": "917ee2e5b47a9c4c",
   "execution_count": 13
  },
  {
   "cell_type": "code",
   "outputs": [
    {
     "name": "stdout",
     "output_type": "stream",
     "text": [
      "                                            Title       Price        Date\n",
      "0   Apple iPhone 15 Pro (512 GB) - White Titanium  5,299.35\\n  2024-02-06\n",
      "1   Apple iPhone 15 Pro (512 GB) - White Titanium  5,299.35\\n  2024-02-06\n",
      "2   Apple iPhone 15 Pro (512 GB) - White Titanium  5,299.35\\n  2024-02-06\n",
      "3   Apple iPhone 15 Pro (512 GB) - White Titanium  5,299.35\\n  2024-02-06\n",
      "4   Apple iPhone 15 Pro (512 GB) - White Titanium  5,299.35\\n  2024-02-06\n",
      "5   Apple iPhone 15 Pro (512 GB) - White Titanium  5,299.35\\n  2024-02-06\n",
      "6   Apple iPhone 15 Pro (512 GB) - White Titanium  5,299.35\\n  2024-02-06\n",
      "7   Apple iPhone 15 Pro (512 GB) - White Titanium  5,299.35\\n  2024-02-06\n",
      "8   Apple iPhone 15 Pro (512 GB) - White Titanium  5,299.35\\n  2024-02-06\n",
      "9   Apple iPhone 15 Pro (512 GB) - White Titanium  5,299.35\\n  2024-02-06\n",
      "10  Apple iPhone 15 Pro (512 GB) - White Titanium  5,299.35\\n  2024-02-06\n",
      "11  Apple iPhone 15 Pro (512 GB) - White Titanium  5,299.35\\n  2024-02-06\n",
      "12  Apple iPhone 15 Pro (512 GB) - White Titanium  5,299.35\\n  2024-02-06\n",
      "13  Apple iPhone 15 Pro (512 GB) - White Titanium  5,299.35\\n  2024-02-06\n",
      "14  Apple iPhone 15 Pro (512 GB) - White Titanium  5,299.35\\n  2024-02-06\n",
      "15  Apple iPhone 15 Pro (512 GB) - White Titanium  5,299.35\\n  2024-02-06\n",
      "16  Apple iPhone 15 Pro (512 GB) - White Titanium  5,299.35\\n  2024-02-06\n",
      "17  Apple iPhone 15 Pro (512 GB) - White Titanium  5,299.35\\n  2024-02-06\n",
      "18  Apple iPhone 15 Pro (512 GB) - White Titanium  5,299.35\\n  2024-02-06\n",
      "19  Apple iPhone 15 Pro (512 GB) - White Titanium  5,299.35\\n  2024-02-06\n",
      "20  Apple iPhone 15 Pro (512 GB) - White Titanium  5,299.35\\n  2024-02-06\n",
      "21  Apple iPhone 15 Pro (512 GB) - White Titanium  5,299.35\\n  2024-02-06\n",
      "22  Apple iPhone 15 Pro (512 GB) - White Titanium  5,299.35\\n  2024-02-06\n",
      "23  Apple iPhone 15 Pro (512 GB) - White Titanium  5,299.35\\n  2024-02-06\n",
      "24  Apple iPhone 15 Pro (512 GB) - White Titanium  5,299.35\\n  2024-02-06\n",
      "25  Apple iPhone 15 Pro (512 GB) - White Titanium  5,299.35\\n  2024-02-06\n",
      "26  Apple iPhone 15 Pro (512 GB) - White Titanium  5,299.35\\n  2024-02-06\n",
      "27  Apple iPhone 15 Pro (512 GB) - White Titanium  5,299.35\\n  2024-02-06\n",
      "28  Apple iPhone 15 Pro (512 GB) - White Titanium  5,299.35\\n  2024-02-06\n",
      "29  Apple iPhone 15 Pro (512 GB) - White Titanium  5,299.35\\n  2024-02-06\n",
      "30  Apple iPhone 15 Pro (512 GB) - White Titanium  5,299.35\\n  2024-02-06\n"
     ]
    }
   ],
   "source": [
    "def check_price():\n",
    "    URL = 'https://www.amazon.ae/Apple-iPhone-15-Pro-512/dp/B0CHX5QVXH/ref=sr_1_1_sspa?crid=3VPZMCE5LEQXW&keywords=iphone+15+pro&qid=1706970566&sprefix=iphone%2Caps%2C287&sr=8-1-spons&sp_csd=d2lkZ2V0TmFtZT1zcF9hdGY&psc=1'\n",
    "\n",
    "    headers = {\"User-Agent\": \"Mozilla/5.0 (Windows NT 10.0; Win64; x64) AppleWebKit/537.36 (KHTML, like Gecko) Chrome/78.0.3904.108 Safari/537.36\", \"Accept-Encoding\":\"gzip, deflate\", \"Accept\":\"text/html,application/xhtml+xml,application/xml;q=0.9,*/*;q=0.8\", \"DNT\":\"1\",\"Connection\":\"close\", \"Upgrade-Insecure-Requests\":\"1\"}\n",
    "\n",
    "    page = requests.get(URL, headers=headers)\n",
    "\n",
    "    soup1 = BeautifulSoup(page.content, \"html.parser\")\n",
    "    soup2 = BeautifulSoup(soup1.prettify(), \"html.parser\")\n",
    "    \n",
    "    title = soup2.find(id='productTitle').get_text()\n",
    "    price = soup2.find(id='corePrice_feature_div').get_text()\n",
    "    \n",
    "    price = price.strip()[3:12]\n",
    "    title = title.strip()\n",
    "    \n",
    "    today = datetime.date.today()\n",
    "    \n",
    "    header = [\"Title\", \"Price\", \"Date\"]\n",
    "    data = [title, price, today]\n",
    "   \n",
    "    with open(\"AmazonWebScraperDataset.csv\", 'a+', newline='', encoding='UTF8') as f:\n",
    "        writer = csv.writer(f)\n",
    "        writer.writerow(data)\n",
    "\n",
    "# while True:\n",
    "#     check_price()\n",
    "#     time.sleep(2)\n",
    "\n",
    "import pandas as pd\n",
    "\n",
    "df = pd.read_csv('/Users/adithya/PycharmProjects/Web-Scraping/AmazonWebScraperDataset.csv')\n",
    "\n",
    "print(df)\n"
   ],
   "metadata": {
    "collapsed": false,
    "ExecuteTime": {
     "end_time": "2024-02-06T10:29:42.641107Z",
     "start_time": "2024-02-06T10:29:42.429712Z"
    }
   },
   "id": "24c5e6be7bb6f8a7",
   "execution_count": 19
  },
  {
   "cell_type": "code",
   "outputs": [],
   "source": [],
   "metadata": {
    "collapsed": false
   },
   "id": "6b11335c61505d1d"
  }
 ],
 "metadata": {
  "kernelspec": {
   "display_name": "Python 3",
   "language": "python",
   "name": "python3"
  },
  "language_info": {
   "codemirror_mode": {
    "name": "ipython",
    "version": 2
   },
   "file_extension": ".py",
   "mimetype": "text/x-python",
   "name": "python",
   "nbconvert_exporter": "python",
   "pygments_lexer": "ipython2",
   "version": "2.7.6"
  }
 },
 "nbformat": 4,
 "nbformat_minor": 5
}
